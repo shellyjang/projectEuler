{
 "metadata": {
  "name": "euler6"
 }, 
 "nbformat": 2, 
 "worksheets": [
  {
   "cells": [
    {
     "cell_type": "code", 
     "collapsed": false, 
     "input": [
      "def euler6(n):", 
      "    ans1 = 0;", 
      "    ans2 = 0;", 
      "    for ii in range(1,n+1):", 
      "        ans1 = ans1 + power(ii,2);", 
      "        ans2 = ans2 + ii;", 
      "    return power(ans2,2) - ans1", 
      "euler5(100)"
     ], 
     "language": "python", 
     "outputs": [
      {
       "output_type": "pyout", 
       "prompt_number": 9, 
       "text": [
        "25164150"
       ]
      }
     ], 
     "prompt_number": 9
    }, 
    {
     "cell_type": "code", 
     "collapsed": false, 
     "input": [
      "def euler6(n):", 
      "    ans = 0;", 
      "    for ii in range(1,n):", 
      "        ans = ans + 2*ii*sum(range(ii+1,n+1));", 
      "    return ans", 
      "euler5(100)"
     ], 
     "language": "python", 
     "outputs": [
      {
       "output_type": "pyout", 
       "prompt_number": 16, 
       "text": [
        "25164150"
       ]
      }
     ], 
     "prompt_number": 16
    }, 
    {
     "cell_type": "code", 
     "collapsed": false, 
     "input": [
      "n = 10;", 
      "sum(range(2,n+1))"
     ], 
     "language": "python", 
     "outputs": [
      {
       "output_type": "pyout", 
       "prompt_number": 11, 
       "text": [
        "54"
       ]
      }
     ], 
     "prompt_number": 11
    }, 
    {
     "cell_type": "code", 
     "collapsed": false, 
     "input": [
      "sum(range(2,4))"
     ], 
     "language": "python", 
     "outputs": [
      {
       "output_type": "pyout", 
       "prompt_number": 12, 
       "text": [
        "5"
       ]
      }
     ], 
     "prompt_number": 12
    }, 
    {
     "cell_type": "code", 
     "collapsed": true, 
     "input": [], 
     "language": "python", 
     "outputs": []
    }
   ]
  }
 ]
}