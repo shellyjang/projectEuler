{
 "metadata": {
  "name": "euler10"
 }, 
 "nbformat": 2, 
 "worksheets": [
  {
   "cells": [
    {
     "cell_type": "code", 
     "collapsed": true, 
     "input": [
      "import sets", 
      "from sets import Set", 
      "", 
      "def diff(a, b):", 
      "        b = set(b)", 
      "        return [aa for aa in a if aa not in b]", 
      "    ", 
      "def erasto(n):", 
      "    cand = range(2,n+1);", 
      "    ii = 0;", 
      "    p = cand[ii];", 
      "    cand = diff(cand, range(2*p, n+1, p));", 
      "    while p < max(cand): ", 
      "        ii = 0;", 
      "    #    p = cand[ii];", 
      "    #   cand = diff(cand, range(2*p, n+1, p));", 
      "        while ( p >= cand[ii] ):", 
      "            ii = ii+1;", 
      "        p = cand[ii];", 
      "        cand = diff(cand, range(2*p, n+1, p));", 
      "    return cand", 
      "", 
      "def erastoIter(prev,min,max):", 
      "    newCand = range(min, max);", 
      "    for ii in prev:", 
      "        mult = filter(lambda x: x > min, range(ii, max, ii));", 
      "        newCand = diff(newCand, mult);", 
      "    ans = prev + newCand;", 
      "    return ans"
     ], 
     "language": "python", 
     "outputs": [], 
     "prompt_number": 1
    }, 
    {
     "cell_type": "code", 
     "collapsed": true, 
     "input": [
      "ans = erasto(10000);", 
      "ans = erastoIter(ans,10000,120000);", 
      "ans = erastoIter(ans,120000,300000);"
     ], 
     "language": "python", 
     "outputs": [], 
     "prompt_number": 3
    }, 
    {
     "cell_type": "code", 
     "collapsed": true, 
     "input": [
      "ans = erastoIter(ans,300000,1000000);"
     ], 
     "language": "python", 
     "outputs": [], 
     "prompt_number": 12
    }, 
    {
     "cell_type": "code", 
     "collapsed": false, 
     "input": [
      "ans[-1]"
     ], 
     "language": "python", 
     "outputs": [
      {
       "output_type": "pyout", 
       "prompt_number": 16, 
       "text": [
        "999983"
       ]
      }
     ], 
     "prompt_number": 16
    }, 
    {
     "cell_type": "code", 
     "collapsed": true, 
     "input": [
      "newAns = erastoIter(ans,300000,600000);"
     ], 
     "language": "python", 
     "outputs": [], 
     "prompt_number": 17
    }, 
    {
     "cell_type": "code", 
     "collapsed": false, 
     "input": [
      "ans[-1]"
     ], 
     "language": "python", 
     "outputs": [
      {
       "output_type": "pyout", 
       "prompt_number": 20, 
       "text": [
        "999983"
       ]
      }
     ], 
     "prompt_number": 20
    }, 
    {
     "cell_type": "code", 
     "collapsed": false, 
     "input": [
      "import numpy", 
      "def sieveOfErat(end):  ", 
      "  if end < 2: return []  ", 
      "", 
      "  #The array doesn't need to include even numbers  ", 
      "  lng = ((end/2)-1+end%2)  ", 
      "", 
      "  # Create array and assume all numbers in array are prime  ", 
      "  sieve = [True]*(lng+1)  ", 
      "", 
      "  # In the following code, you're going to see some funky  ", 
      "  # bit shifting and stuff, this is just transforming i and j  ", 
      "  # so that they represent the proper elements in the array.  ", 
      "  # The transforming is not optimal, and the number of  ", 
      "  # operations involved can be reduced.  ", 
      "", 
      "  # Only go up to square root of the end  ", 
      "  for i in range(int(pow(end,0.5)) >> 1):  ", 
      "", 
      "    # Skip numbers that aren\u2019t marked as prime  ", 
      "    if not sieve[i]: continue  ", 
      "", 
      "    # Unmark all multiples of i, starting at i**2  ", 
      "    for j in range( (i*(i + 3) << 1) + 3, lng, (i << 1) + 3):  ", 
      "      sieve[j] = False  ", 
      "", 
      "  # Don't forget 2!  ", 
      "  primes = [2]  ", 
      "", 
      "  # Gather all the primes into a list, leaving out the composite numbers  ", 
      "  primes.extend([(i << 1) + 3 for i in range(lng) if sieve[i]])  ", 
      "", 
      "  # return primes", 
      "  return range(int(pow(end,0.5))) >> 1"
     ], 
     "language": "python", 
     "outputs": [], 
     "prompt_number": 16
    }, 
    {
     "cell_type": "code", 
     "collapsed": false, 
     "input": [
      "10 >> 5"
     ], 
     "language": "python", 
     "outputs": [
      {
       "output_type": "pyout", 
       "prompt_number": 23, 
       "text": [
        "0"
       ]
      }
     ], 
     "prompt_number": 23
    }, 
    {
     "cell_type": "code", 
     "collapsed": false, 
     "input": [
      "sum(primes)"
     ], 
     "language": "python", 
     "outputs": [
      {
       "output_type": "pyout", 
       "prompt_number": 8, 
       "text": [
        "142913828922L"
       ]
      }
     ], 
     "prompt_number": 8
    }, 
    {
     "cell_type": "code", 
     "collapsed": false, 
     "input": [
      "print f >> \"Hello World\""
     ], 
     "language": "python", 
     "outputs": [
      {
       "ename": "NameError", 
       "evalue": "name 'f' is not defined", 
       "output_type": "pyerr", 
       "traceback": [
        "\u001b[0;31m---------------------------------------------------------------------------\u001b[0m\n\u001b[0;31mNameError\u001b[0m                                 Traceback (most recent call last)", 
        "\u001b[0;32m/Users/Shell/Dropbox/ProjectEuler/<ipython-input-24-99cefa90d9bf>\u001b[0m in \u001b[0;36m<module>\u001b[0;34m()\u001b[0m\n\u001b[0;32m----> 1\u001b[0;31m \u001b[0;32mprint\u001b[0m \u001b[0mf\u001b[0m \u001b[0;34m>>\u001b[0m \u001b[0;34m\"Hello World\"\u001b[0m\u001b[0;34m\u001b[0m\u001b[0m\n\u001b[0m", 
        "\u001b[0;31mNameError\u001b[0m: name 'f' is not defined"
       ]
      }
     ], 
     "prompt_number": 24
    }, 
    {
     "cell_type": "code", 
     "collapsed": false, 
     "input": [
      "for i in range(int(pow(100,0.5)) >> 1): ", 
      "    print i"
     ], 
     "language": "python", 
     "outputs": [
      {
       "output_type": "stream", 
       "stream": "stdout", 
       "text": [
        "0", 
        "1", 
        "2", 
        "3", 
        "4"
       ]
      }
     ], 
     "prompt_number": 28
    }, 
    {
     "cell_type": "code", 
     "collapsed": false, 
     "input": [
      "range(int(pow(100,0.5)) >> 1)"
     ], 
     "language": "python", 
     "outputs": [
      {
       "output_type": "pyout", 
       "prompt_number": 31, 
       "text": [
        "[0, 1, 2, 3, 4]"
       ]
      }
     ], 
     "prompt_number": 31
    }, 
    {
     "cell_type": "code", 
     "collapsed": false, 
     "input": [
      "int(pow(100,0.5)) >> 1"
     ], 
     "language": "python", 
     "outputs": [
      {
       "output_type": "pyout", 
       "prompt_number": 33, 
       "text": [
        "5"
       ]
      }
     ], 
     "prompt_number": 33
    }, 
    {
     "cell_type": "code", 
     "collapsed": true, 
     "input": [
      "def div2(n):", 
      "    return n/2;", 
      "def rightShift(n):", 
      "    return round(n/2);"
     ], 
     "language": "python", 
     "outputs": [], 
     "prompt_number": 41
    }, 
    {
     "cell_type": "code", 
     "collapsed": false, 
     "input": [
      "map(rightShift, range(int(pow(100,0.5))))"
     ], 
     "language": "python", 
     "outputs": [
      {
       "output_type": "pyout", 
       "prompt_number": 42, 
       "text": [
        "[0.0, 0.0, 1.0, 1.0, 2.0, 2.0, 3.0, 3.0, 4.0, 4.0]"
       ]
      }
     ], 
     "prompt_number": 42
    }, 
    {
     "cell_type": "code", 
     "collapsed": false, 
     "input": [
      "map((lambda x: round(x/2)), range(int(pow(100,0.5))))"
     ], 
     "language": "python", 
     "outputs": [
      {
       "output_type": "pyout", 
       "prompt_number": 44, 
       "text": [
        "[0.0, 0.0, 1.0, 1.0, 2.0, 2.0, 3.0, 3.0, 4.0, 4.0]"
       ]
      }
     ], 
     "prompt_number": 44
    }, 
    {
     "cell_type": "code", 
     "collapsed": true, 
     "input": [], 
     "language": "python", 
     "outputs": []
    }
   ]
  }
 ]
}