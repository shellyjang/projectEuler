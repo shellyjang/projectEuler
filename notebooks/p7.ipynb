{
 "metadata": {
  "name": "euler7"
 }, 
 "nbformat": 2, 
 "worksheets": [
  {
   "cells": [
    {
     "cell_type": "markdown", 
     "source": [
      "By listing the first six prime numbers: 2, 3, 5, 7, 11, and 13, we can see that the 6th prime is 13.", 
      "", 
      "What is the 10 001st prime number?"
     ]
    }, 
    {
     "cell_type": "code", 
     "collapsed": false, 
     "input": [
      "def isprime(n):", 
      "    ans = 0;", 
      "    if n == 2 or n == 3:", 
      "        ans = 1;", 
      "    elif n <= 1 or n == 4 or n%2==0:", 
      "        ans = 0;", 
      "    else:", 
      "        cand = range(3,n,2);", 
      "        ans = 1;", 
      "        for ii in cand:", 
      "            if n%ii == 0:", 
      "                ans = 0;        ", 
      "    return ans", 
      "isprime(101)"
     ], 
     "language": "python", 
     "outputs": [
      {
       "output_type": "pyout", 
       "prompt_number": 32, 
       "text": [
        "1"
       ]
      }
     ], 
     "prompt_number": 32
    }, 
    {
     "cell_type": "code", 
     "collapsed": false, 
     "input": [
      "def euler7(n):", 
      "    k = [0];", 
      "    ii = 1;", 
      "    while sum(k) < n:", 
      "        k = k + [isprime(ii)];", 
      "        ii = ii + 1;   ", 
      "    return ii-1", 
      "euler7(100)"
     ], 
     "language": "python", 
     "outputs": [
      {
       "output_type": "pyout", 
       "prompt_number": 2, 
       "text": [
        "541"
       ]
      }
     ], 
     "prompt_number": 2
    }, 
    {
     "cell_type": "code", 
     "collapsed": true, 
     "input": [
      "import sets", 
      "from sets import Set"
     ], 
     "language": "python", 
     "outputs": [], 
     "prompt_number": 86
    }, 
    {
     "cell_type": "code", 
     "collapsed": false, 
     "input": [
      "x = range(10);", 
      "y = range(1,10,2);", 
      "Set(x).difference(Set(y))"
     ], 
     "language": "python", 
     "outputs": [
      {
       "output_type": "pyout", 
       "prompt_number": 87, 
       "text": [
        "Set([0, 8, 2, 4, 6])"
       ]
      }
     ], 
     "prompt_number": 87
    }, 
    {
     "cell_type": "code", 
     "collapsed": true, 
     "input": [
      "def diff(a, b):", 
      "        b = set(b)", 
      "        return [aa for aa in a if aa not in b]"
     ], 
     "language": "python", 
     "outputs": [], 
     "prompt_number": 88
    }, 
    {
     "cell_type": "code", 
     "collapsed": false, 
     "input": [
      "def erasto(n):", 
      "    cand = range(2,n+1);", 
      "    ii = 0;", 
      "    p = cand[ii];", 
      "    cand = diff(cand, range(2*p, n+1, p));", 
      "    while p < max(cand): ", 
      "        ii = 0;", 
      "    #    p = cand[ii];", 
      "    #   cand = diff(cand, range(2*p, n+1, p));", 
      "        while ( p >= cand[ii] ):", 
      "            ii = ii+1;", 
      "        p = cand[ii];", 
      "        cand = diff(cand, range(2*p, n+1, p));", 
      "    return cand", 
      "", 
      "def erastoIter(prev,min,max):", 
      "    newCand = range(min, max);", 
      "    for ii in prev:", 
      "        mult = filter(lambda x: x > min, range(ii, max, ii));", 
      "        newCand = diff(newCand, mult);", 
      "    ans = prev + newCand;", 
      "    return ans", 
      "", 
      "ans = erasto(10000);", 
      "ans = erastoIter(ans,10000,120000);", 
      "ans[10001]"
     ], 
     "language": "python", 
     "outputs": [
      {
       "output_type": "pyout", 
       "prompt_number": 127, 
       "text": [
        "104743"
       ]
      }
     ], 
     "prompt_number": 127
    }, 
    {
     "cell_type": "code", 
     "collapsed": false, 
     "input": [
      "len(ans)"
     ], 
     "language": "python", 
     "outputs": [
      {
       "output_type": "pyout", 
       "prompt_number": 126, 
       "text": [
        "9593"
       ]
      }
     ], 
     "prompt_number": 126
    }, 
    {
     "cell_type": "code", 
     "collapsed": false, 
     "input": [
      "newAns = erastoIter(ans,"
     ], 
     "language": "python", 
     "outputs": [], 
     "prompt_number": 121
    }, 
    {
     "cell_type": "code", 
     "collapsed": false, 
     "input": [
      "newAns[10001]"
     ], 
     "language": "python", 
     "outputs": [
      {
       "output_type": "pyout", 
       "prompt_number": 124, 
       "text": [
        "104743"
       ]
      }
     ], 
     "prompt_number": 124
    }, 
    {
     "cell_type": "code", 
     "collapsed": false, 
     "input": [
      "newCand = range(50001,100000);", 
      "for ii in ans:", 
      "    mult = filter(lambda x: x >50000, range(ii, 100000, ii) );", 
      "    newCand = diff(newCand, mult);", 
      "", 
      "ans = ans+newCand;", 
      "len(ans)", 
      "    "
     ], 
     "language": "python", 
     "outputs": [
      {
       "output_type": "pyout", 
       "prompt_number": 79, 
       "text": [
        "9593"
       ]
      }
     ], 
     "prompt_number": 79
    }, 
    {
     "cell_type": "code", 
     "collapsed": false, 
     "input": [
      "newCand = range(100001,120000);", 
      "for ii in ans:", 
      "    mult = filter(lambda x: x >100000, range(ii, 120000, ii) );", 
      "    newCand = diff(newCand, mult);", 
      "", 
      "ans = ans+newCand;", 
      "len(ans)", 
      "    "
     ], 
     "language": "python", 
     "outputs": [
      {
       "output_type": "pyout", 
       "prompt_number": 80, 
       "text": [
        "11302"
       ]
      }
     ], 
     "prompt_number": 80
    }, 
    {
     "cell_type": "code", 
     "collapsed": false, 
     "input": [
      "ans[0]"
     ], 
     "language": "python", 
     "outputs": [
      {
       "output_type": "pyout", 
       "prompt_number": 81, 
       "text": [
        "2"
       ]
      }
     ], 
     "prompt_number": 81
    }, 
    {
     "cell_type": "code", 
     "collapsed": false, 
     "input": [
      "ans[10001]"
     ], 
     "language": "python", 
     "outputs": [
      {
       "output_type": "pyout", 
       "prompt_number": 84, 
       "text": [
        "104743"
       ]
      }
     ], 
     "prompt_number": 84
    }, 
    {
     "cell_type": "code", 
     "collapsed": false, 
     "input": [
      "ans = erasto(10000);", 
      "len(ans)"
     ], 
     "language": "python", 
     "outputs": [
      {
       "output_type": "pyout", 
       "prompt_number": 99, 
       "text": [
        "1230"
       ]
      }
     ], 
     "prompt_number": 99
    }, 
    {
     "cell_type": "code", 
     "collapsed": false, 
     "input": [
      "newAns =erastoIter(ans,20000,50000);", 
      "len(newAns)"
     ], 
     "language": "python", 
     "outputs": [
      {
       "output_type": "pyout", 
       "prompt_number": 92, 
       "text": [
        "5135"
       ]
      }
     ], 
     "prompt_number": 92
    }, 
    {
     "cell_type": "code", 
     "collapsed": false, 
     "input": [
      "ans[0]"
     ], 
     "language": "python", 
     "outputs": [
      {
       "output_type": "pyout", 
       "prompt_number": 93, 
       "text": [
        "2"
       ]
      }
     ], 
     "prompt_number": 93
    }, 
    {
     "cell_type": "code", 
     "collapsed": false, 
     "input": [
      "newAns[0:10]"
     ], 
     "language": "python", 
     "outputs": [
      {
       "output_type": "pyout", 
       "prompt_number": 98, 
       "text": [
        "[2, 3, 4, 5, 7, 11, 13, 17, 19, 23]"
       ]
      }
     ], 
     "prompt_number": 98
    }, 
    {
     "cell_type": "code", 
     "collapsed": true, 
     "input": [], 
     "language": "python", 
     "outputs": []
    }
   ]
  }
 ]
}