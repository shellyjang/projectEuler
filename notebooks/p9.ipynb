{
 "metadata": {
  "name": "euler9"
 }, 
 "nbformat": 2, 
 "worksheets": [
  {
   "cells": [
    {
     "cell_type": "markdown", 
     "source": [
      "A Pythagorean triplet is a set of three natural numbers, a < b < c, for which,", 
      "", 
      "a2 + b2 = c2", 
      "For example, 32 + 42 = 9 + 16 = 25 = 52.", 
      "", 
      "There exists exactly one Pythagorean triplet for which a + b + c = 1000.", 
      "Find the product abc."
     ]
    }, 
    {
     "cell_type": "code", 
     "collapsed": false, 
     "input": [
      "import sympy", 
      "from sympy import Eq, Symbol, solve"
     ], 
     "language": "python", 
     "outputs": [], 
     "prompt_number": 5
    }, 
    {
     "cell_type": "code", 
     "collapsed": false, 
     "input": [
      "for a in range(1,499):", 
      "    y = Symbol('y');", 
      "    eqn = Eq(pow(a,2)+pow(y,2), pow((1000-a-y),2));", 
      "", 
      "    [b] = solve(eqn);", 
      "    if b%1 == 0:", 
      "        break;", 
      "[a, b, 1000-a-b]"
     ], 
     "language": "python", 
     "outputs": [
      {
       "output_type": "pyout", 
       "prompt_number": 27, 
       "text": [
        "[200, 375, 425]"
       ]
      }
     ], 
     "prompt_number": 27
    }, 
    {
     "cell_type": "code", 
     "collapsed": false, 
     "input": [
      "a*b*(1000-a-b)"
     ], 
     "language": "python", 
     "outputs": [
      {
       "output_type": "pyout", 
       "prompt_number": 28, 
       "text": [
        "31875000"
       ]
      }
     ], 
     "prompt_number": 28
    }
   ]
  }
 ]
}